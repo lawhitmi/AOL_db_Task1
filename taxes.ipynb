{
 "cells": [
  {
   "cell_type": "code",
   "execution_count": 39,
   "metadata": {},
   "outputs": [],
   "source": [
    "from exaDBconn import genDBCursor\n",
    "import pandas as pd\n",
    "import matplotlib.pyplot as plt\n",
    "%matplotlib inline\n"
   ]
  },
  {
   "cell_type": "code",
   "execution_count": 5,
   "metadata": {},
   "outputs": [],
   "source": [
    "cur = genDBCursor()"
   ]
  },
  {
   "cell_type": "code",
   "execution_count": 31,
   "metadata": {},
   "outputs": [],
   "source": [
    "taxSearches = \"SELECT ANONIDDIM.ID, irsQuery.query, TIMEDIM.[month], TIMEDIM.[day of the month] FROM \\\n",
    "(SELECT QUERYDIM.QUERY as query, FACTS.ANONID as anonid, FACTS.TIMEID as timeid \\\n",
    "FROM FACTS \\\n",
    "JOIN QUERYDIM ON QUERYDIM.ID=FACTS.QUERYID \\\n",
    "WHERE QUERYDIM.QUERY LIKE '%1040%' \\\n",
    "OR QUERYDIM.QUERY LIKE '%tax forms%' \\\n",
    "OR QUERYDIM.QUERY LIKE '% irs %' \\\n",
    "OR QUERYDIM.QUERY LIKE 'irs %' \\\n",
    "OR QUERYDIM.QUERY LIKE '%tax%') as irsQuery \\\n",
    "JOIN ANONIDDIM on irsQuery.anonid=ANONIDDIM.ANONID \\\n",
    "JOIN TIMEDIM on TIMEDIM.ID=irsQuery.timeid;\"\n",
    "\n",
    "df = cur.export_to_pandas(taxSearches)\n",
    "\n",
    "\n"
   ]
  },
  {
   "cell_type": "code",
   "execution_count": 32,
   "metadata": {},
   "outputs": [
    {
     "data": {
      "text/plain": [
       "ID                   int64\n",
       "QUERY               object\n",
       "month               object\n",
       "day of the month     int64\n",
       "dtype: object"
      ]
     },
     "execution_count": 32,
     "metadata": {},
     "output_type": "execute_result"
    }
   ],
   "source": [
    "df.dtypes"
   ]
  },
  {
   "cell_type": "code",
   "execution_count": 23,
   "metadata": {},
   "outputs": [
    {
     "data": {
      "text/plain": [
       "733"
      ]
     },
     "execution_count": 23,
     "metadata": {},
     "output_type": "execute_result"
    }
   ],
   "source": [
    "len(df.ID.unique())  #number of unique Users"
   ]
  },
  {
   "cell_type": "code",
   "execution_count": 37,
   "metadata": {
    "scrolled": false
   },
   "outputs": [
    {
     "name": "stdout",
     "output_type": "stream",
     "text": [
      "month      day of the month\n",
      "april      1                   22\n",
      "           2                   56\n",
      "           3                   32\n",
      "           4                   21\n",
      "           5                   27\n",
      "                               ..\n",
      "may        27                   3\n",
      "           28                  11\n",
      "           29                  28\n",
      "           30                  35\n",
      "           31                  17\n",
      "Length: 92, dtype: int64\n"
     ]
    }
   ],
   "source": [
    "dfgrpd = df.groupby(['month','day of the month']).size()\n",
    "print(dfgrpd)"
   ]
  },
  {
   "cell_type": "code",
   "execution_count": 57,
   "metadata": {},
   "outputs": [
    {
     "name": "stdout",
     "output_type": "stream",
     "text": [
      "[22 56 32 21 27 37 20 32 66 22 27 30 20 30 59 63 95 27  6 14 13 23 27 18\n",
      " 10  7  3  7  7  5 50 44 18 30 33 39 33 45 44 54 59 50 48 41 47 35 36 43\n",
      " 48 34 35 47 29 20 29 34 49 35 37 10 19 11  6 22 16 10 13 30 30 11 16 19\n",
      "  9 10 10 10  9  1 25 12 13 34 12 18 10  8 17  3 11 28 35 17]\n"
     ]
    }
   ],
   "source": [
    "print(dfgrpd.values)"
   ]
  },
  {
   "cell_type": "code",
   "execution_count": 55,
   "metadata": {},
   "outputs": [],
   "source": [
    "dates = []\n",
    "for i in dfgrpd.keys():\n",
    "    dates.append(i[0].strip()+str(i[1]))"
   ]
  },
  {
   "cell_type": "code",
   "execution_count": 56,
   "metadata": {},
   "outputs": [
    {
     "data": {
      "text/plain": [
       "<BarContainer object of 92 artists>"
      ]
     },
     "execution_count": 56,
     "metadata": {},
     "output_type": "execute_result"
    },
    {
     "data": {
      "image/png": "[encoded data removed]",
      "text/plain": [
       "<Figure size 432x288 with 1 Axes>"
      ]
     },
     "metadata": {
      "needs_background": "light"
     },
     "output_type": "display_data"
    }
   ],
   "source": [
    "plt.bar(dates,dfgrpd.values,color='green')"
   ]
  },
  {
   "cell_type": "code",
   "execution_count": null,
   "metadata": {},
   "outputs": [],
   "source": []
  }
 ],
 "metadata": {
  "kernelspec": {
   "display_name": "Python 3",
   "language": "python",
   "name": "python3"
  },
  "language_info": {
   "codemirror_mode": {
    "name": "ipython",
    "version": 3
   },
   "file_extension": ".py",
   "mimetype": "text/x-python",
   "name": "python",
   "nbconvert_exporter": "python",
   "pygments_lexer": "ipython3",
   "version": "3.7.4"
  }
 },
 "nbformat": 4,
 "nbformat_minor": 2
}
